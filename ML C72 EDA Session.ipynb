{
 "cells": [
  {
   "cell_type": "code",
   "execution_count": 1,
   "id": "1f223333-7a7e-44d1-8c0e-527c0b22ff10",
   "metadata": {},
   "outputs": [],
   "source": [
    "# Data --> Business Problem --> Data Viz --> EDA --> Insights/Trends/Patterns/Observations --> Business Decisions\n",
    "# Pre-requisite: Basic Python + Pandas + Numpy + DV"
   ]
  },
  {
   "cell_type": "markdown",
   "id": "6f85727f-3c0a-49d7-9693-8101a0741591",
   "metadata": {},
   "source": [
    "## Steps for EDA\n",
    "- Importing necessary libraries\n",
    "- Data Loading\n",
    "- Data Understanding\n",
    "- Problem Statement Understanding\n",
    "- Missing Value Check\n",
    "- Missing Value Imputation\n",
    "- Univariate Analysis (One Variable at a time - Check the distribution of the column)\n",
    "- Bivariate Analysis (Two Variable at a time - Relationship between the two columns)\n",
    "- Multivariate Analysis (More than two variables at a time - Relationship between more than two columns)"
   ]
  },
  {
   "cell_type": "markdown",
   "id": "4817b4dc-7e1f-4c64-ae62-eeb6579f280b",
   "metadata": {},
   "source": [
    "## Importing Necessary Library"
   ]
  },
  {
   "cell_type": "code",
   "execution_count": 4,
   "id": "ecfcbfec-d23c-485f-8722-fd884b017fb1",
   "metadata": {},
   "outputs": [],
   "source": [
    "# Numerical and Data Analysis\n",
    "import numpy as np\n",
    "import pandas as pd\n",
    "\n",
    "# Data Visualization\n",
    "import seaborn as sns\n",
    "import matplotlib.pyplot as plt"
   ]
  },
  {
   "cell_type": "markdown",
   "id": "79fc4c33-bb52-4aee-b9ae-2117321f93cc",
   "metadata": {},
   "source": [
    "## Data Loading"
   ]
  },
  {
   "cell_type": "code",
   "execution_count": 11,
   "id": "3e2a9f36-0cb3-465e-b59a-29b33481e727",
   "metadata": {},
   "outputs": [],
   "source": [
    "df=pd.read_csv(\"titanic_dataset.csv\")\n",
    "#https://drive.google.com/file/d/1plN-KWVopblsqOdgTYPn-O-zG5cWrkf7/view?usp=drive_link"
   ]
  },
  {
   "cell_type": "code",
   "execution_count": 13,
   "id": "4d6bdc04-3741-4785-9eda-1f3bb01c9d9f",
   "metadata": {},
   "outputs": [
    {
     "data": {
      "text/html": [
       "<div>\n",
       "<style scoped>\n",
       "    .dataframe tbody tr th:only-of-type {\n",
       "        vertical-align: middle;\n",
       "    }\n",
       "\n",
       "    .dataframe tbody tr th {\n",
       "        vertical-align: top;\n",
       "    }\n",
       "\n",
       "    .dataframe thead th {\n",
       "        text-align: right;\n",
       "    }\n",
       "</style>\n",
       "<table border=\"1\" class=\"dataframe\">\n",
       "  <thead>\n",
       "    <tr style=\"text-align: right;\">\n",
       "      <th></th>\n",
       "      <th>PassengerId</th>\n",
       "      <th>Survived</th>\n",
       "      <th>Pclass</th>\n",
       "      <th>Name</th>\n",
       "      <th>Sex</th>\n",
       "      <th>Age</th>\n",
       "      <th>SibSp</th>\n",
       "      <th>Parch</th>\n",
       "      <th>Ticket</th>\n",
       "      <th>Fare</th>\n",
       "      <th>Cabin</th>\n",
       "      <th>Embarked</th>\n",
       "    </tr>\n",
       "  </thead>\n",
       "  <tbody>\n",
       "    <tr>\n",
       "      <th>0</th>\n",
       "      <td>1</td>\n",
       "      <td>0</td>\n",
       "      <td>3</td>\n",
       "      <td>Braund, Mr. Owen Harris</td>\n",
       "      <td>male</td>\n",
       "      <td>22.0</td>\n",
       "      <td>1</td>\n",
       "      <td>0</td>\n",
       "      <td>A/5 21171</td>\n",
       "      <td>7.2500</td>\n",
       "      <td>NaN</td>\n",
       "      <td>S</td>\n",
       "    </tr>\n",
       "    <tr>\n",
       "      <th>1</th>\n",
       "      <td>2</td>\n",
       "      <td>1</td>\n",
       "      <td>1</td>\n",
       "      <td>Cumings, Mrs. John Bradley (Florence Briggs Th...</td>\n",
       "      <td>female</td>\n",
       "      <td>38.0</td>\n",
       "      <td>1</td>\n",
       "      <td>0</td>\n",
       "      <td>PC 17599</td>\n",
       "      <td>71.2833</td>\n",
       "      <td>C85</td>\n",
       "      <td>C</td>\n",
       "    </tr>\n",
       "    <tr>\n",
       "      <th>2</th>\n",
       "      <td>3</td>\n",
       "      <td>1</td>\n",
       "      <td>3</td>\n",
       "      <td>Heikkinen, Miss. Laina</td>\n",
       "      <td>female</td>\n",
       "      <td>26.0</td>\n",
       "      <td>0</td>\n",
       "      <td>0</td>\n",
       "      <td>STON/O2. 3101282</td>\n",
       "      <td>7.9250</td>\n",
       "      <td>NaN</td>\n",
       "      <td>S</td>\n",
       "    </tr>\n",
       "    <tr>\n",
       "      <th>3</th>\n",
       "      <td>4</td>\n",
       "      <td>1</td>\n",
       "      <td>1</td>\n",
       "      <td>Futrelle, Mrs. Jacques Heath (Lily May Peel)</td>\n",
       "      <td>female</td>\n",
       "      <td>35.0</td>\n",
       "      <td>1</td>\n",
       "      <td>0</td>\n",
       "      <td>113803</td>\n",
       "      <td>53.1000</td>\n",
       "      <td>C123</td>\n",
       "      <td>S</td>\n",
       "    </tr>\n",
       "    <tr>\n",
       "      <th>4</th>\n",
       "      <td>5</td>\n",
       "      <td>0</td>\n",
       "      <td>3</td>\n",
       "      <td>Allen, Mr. William Henry</td>\n",
       "      <td>male</td>\n",
       "      <td>35.0</td>\n",
       "      <td>0</td>\n",
       "      <td>0</td>\n",
       "      <td>373450</td>\n",
       "      <td>8.0500</td>\n",
       "      <td>NaN</td>\n",
       "      <td>S</td>\n",
       "    </tr>\n",
       "  </tbody>\n",
       "</table>\n",
       "</div>"
      ],
      "text/plain": [
       "   PassengerId  Survived  Pclass  \\\n",
       "0            1         0       3   \n",
       "1            2         1       1   \n",
       "2            3         1       3   \n",
       "3            4         1       1   \n",
       "4            5         0       3   \n",
       "\n",
       "                                                Name     Sex   Age  SibSp  \\\n",
       "0                            Braund, Mr. Owen Harris    male  22.0      1   \n",
       "1  Cumings, Mrs. John Bradley (Florence Briggs Th...  female  38.0      1   \n",
       "2                             Heikkinen, Miss. Laina  female  26.0      0   \n",
       "3       Futrelle, Mrs. Jacques Heath (Lily May Peel)  female  35.0      1   \n",
       "4                           Allen, Mr. William Henry    male  35.0      0   \n",
       "\n",
       "   Parch            Ticket     Fare Cabin Embarked  \n",
       "0      0         A/5 21171   7.2500   NaN        S  \n",
       "1      0          PC 17599  71.2833   C85        C  \n",
       "2      0  STON/O2. 3101282   7.9250   NaN        S  \n",
       "3      0            113803  53.1000  C123        S  \n",
       "4      0            373450   8.0500   NaN        S  "
      ]
     },
     "execution_count": 13,
     "metadata": {},
     "output_type": "execute_result"
    }
   ],
   "source": [
    "df.head()"
   ]
  },
  {
   "cell_type": "code",
   "execution_count": 15,
   "id": "04f9e924-7983-4e77-b745-f966832a0100",
   "metadata": {
    "collapsed": true,
    "jupyter": {
     "outputs_hidden": true
    }
   },
   "outputs": [
    {
     "name": "stdout",
     "output_type": "stream",
     "text": [
      "<class 'pandas.core.frame.DataFrame'>\n",
      "RangeIndex: 891 entries, 0 to 890\n",
      "Data columns (total 12 columns):\n",
      " #   Column       Non-Null Count  Dtype  \n",
      "---  ------       --------------  -----  \n",
      " 0   PassengerId  891 non-null    int64  \n",
      " 1   Survived     891 non-null    int64  \n",
      " 2   Pclass       891 non-null    int64  \n",
      " 3   Name         891 non-null    object \n",
      " 4   Sex          891 non-null    object \n",
      " 5   Age          714 non-null    float64\n",
      " 6   SibSp        891 non-null    int64  \n",
      " 7   Parch        891 non-null    int64  \n",
      " 8   Ticket       891 non-null    object \n",
      " 9   Fare         891 non-null    float64\n",
      " 10  Cabin        204 non-null    object \n",
      " 11  Embarked     889 non-null    object \n",
      "dtypes: float64(2), int64(5), object(5)\n",
      "memory usage: 83.7+ KB\n"
     ]
    }
   ],
   "source": [
    "df.info()"
   ]
  },
  {
   "cell_type": "code",
   "execution_count": 17,
   "id": "1f184f07-e749-4f08-a958-cd5508577e25",
   "metadata": {},
   "outputs": [],
   "source": [
    "#PassengerId: Unique id for every passenger like a primary key\n",
    "#Survived: Whether a passenger survived or not\n",
    "#Pclass: Passenger Class basically class of travel\n",
    "#Name: Name of the passenger\n",
    "#Sex: Gender of the passenger\n",
    "#Age: Age of the passenger\n",
    "#SibSp: (Siblings + Spouse) Count of Siblings and Spouse along with passenger is travelling\n",
    "#Parch: (Parent + Children) Count of Parent and Children along with passenger is travelling\n",
    "#Ticket: Ticket id \n",
    "#Fare: Fare paid by passenger for travel (in $s)\n",
    "#Cabin: Cabin no. or room no. allocated\n",
    "#Embarked: Boarding Station"
   ]
  },
  {
   "cell_type": "markdown",
   "id": "c77f5b3c-f40e-4eb5-bd27-4c341f41a4e1",
   "metadata": {},
   "source": [
    "### Business Problem: Identify the factors affecting the survival of passengers in the titanic incident"
   ]
  },
  {
   "cell_type": "markdown",
   "id": "d1a52ae9-47a1-473b-badf-2dc60d96f10d",
   "metadata": {},
   "source": [
    "## Missing Value Check"
   ]
  },
  {
   "cell_type": "code",
   "execution_count": 24,
   "id": "2e1771a9-2fef-458b-a1f2-e38199b654e9",
   "metadata": {},
   "outputs": [
    {
     "data": {
      "text/plain": [
       "PassengerId     0.000000\n",
       "Survived        0.000000\n",
       "Pclass          0.000000\n",
       "Name            0.000000\n",
       "Sex             0.000000\n",
       "Age            19.865320\n",
       "SibSp           0.000000\n",
       "Parch           0.000000\n",
       "Ticket          0.000000\n",
       "Fare            0.000000\n",
       "Cabin          77.104377\n",
       "Embarked        0.224467\n",
       "dtype: float64"
      ]
     },
     "execution_count": 24,
     "metadata": {},
     "output_type": "execute_result"
    }
   ],
   "source": [
    "# Percentage of missing values in each column\n",
    "100*df.isnull().mean()"
   ]
  },
  {
   "cell_type": "code",
   "execution_count": null,
   "id": "c0d0dde1-4050-4f57-afca-8ca1f5c6788c",
   "metadata": {},
   "outputs": [],
   "source": [
    "# Missing Values Column -->  Cabin(~77%), Age(~20%), Embarked(~0.22%)\n",
    "# Strategy:\n",
    "# (a) Columns having high percentage of missing values (>40% or 50%), directly discard that column from the analysis.\n",
    "# (b) Columns having missing values under acceptable range we prefer to impute them (replace with some values)\n",
    "# (c) For numerical columns we prefer to use mean or median.(Median is preferred)\n",
    "# (d) Median is not affected with the outliers. (Extreme values)\n",
    "# (e) For categorical columns we prefer to use mode."
   ]
  },
  {
   "cell_type": "code",
   "execution_count": 26,
   "id": "2e650949-a72a-472c-a9f2-3ea2b03dacdd",
   "metadata": {},
   "outputs": [],
   "source": [
    "## Cabin column has more than 40% of missing values so straight away dropping it\n",
    "df1=df.drop(\"Cabin\",axis=1)\n",
    "# axis =1 as we are dropping the column (axis=0 if you want to drop row)"
   ]
  },
  {
   "cell_type": "code",
   "execution_count": 30,
   "id": "c137e26a-82bb-4e4c-b8e9-b4c311de1313",
   "metadata": {
    "collapsed": true,
    "jupyter": {
     "outputs_hidden": true
    },
    "scrolled": true
   },
   "outputs": [
    {
     "data": {
      "text/plain": [
       "PassengerId     0.000000\n",
       "Survived        0.000000\n",
       "Pclass          0.000000\n",
       "Name            0.000000\n",
       "Sex             0.000000\n",
       "Age            19.865320\n",
       "SibSp           0.000000\n",
       "Parch           0.000000\n",
       "Ticket          0.000000\n",
       "Fare            0.000000\n",
       "Embarked        0.224467\n",
       "dtype: float64"
      ]
     },
     "execution_count": 30,
     "metadata": {},
     "output_type": "execute_result"
    }
   ],
   "source": [
    "# Percentage of missing values in each column\n",
    "100*df1.isnull().mean()"
   ]
  },
  {
   "cell_type": "code",
   "execution_count": 32,
   "id": "d4c1bf62-e933-4461-a568-3ad586b5616f",
   "metadata": {},
   "outputs": [
    {
     "name": "stdout",
     "output_type": "stream",
     "text": [
      "Mean: 3.0\n",
      "Median: 3.0\n"
     ]
    }
   ],
   "source": [
    "arr=np.array([1,2,3,4,5])\n",
    "print(\"Mean:\",np.mean(arr))\n",
    "print(\"Median:\",np.median(arr))"
   ]
  },
  {
   "cell_type": "code",
   "execution_count": 34,
   "id": "fc08736e-febe-46a6-836e-ec41830dc208",
   "metadata": {},
   "outputs": [
    {
     "name": "stdout",
     "output_type": "stream",
     "text": [
      "Mean: 22.0\n",
      "Median: 3.0\n"
     ]
    }
   ],
   "source": [
    "arr=np.array([1,2,3,4,100])\n",
    "print(\"Mean:\",np.mean(arr))\n",
    "print(\"Median:\",np.median(arr))"
   ]
  },
  {
   "cell_type": "code",
   "execution_count": 36,
   "id": "cf651caa-199b-44dc-ab45-d9b396da2736",
   "metadata": {},
   "outputs": [],
   "source": [
    "med=df1[\"Age\"].median()\n",
    "df1[\"Age\"]=df1[\"Age\"].fillna(med) # Imputation\n",
    "# Fillna function will replace/impute all missing values of age column with median value i.e. 28"
   ]
  },
  {
   "cell_type": "code",
   "execution_count": 38,
   "id": "20a21b13-f1e5-4e90-853c-070438958e37",
   "metadata": {
    "collapsed": true,
    "jupyter": {
     "outputs_hidden": true
    },
    "scrolled": true
   },
   "outputs": [
    {
     "data": {
      "text/plain": [
       "PassengerId    0.000000\n",
       "Survived       0.000000\n",
       "Pclass         0.000000\n",
       "Name           0.000000\n",
       "Sex            0.000000\n",
       "Age            0.000000\n",
       "SibSp          0.000000\n",
       "Parch          0.000000\n",
       "Ticket         0.000000\n",
       "Fare           0.000000\n",
       "Embarked       0.224467\n",
       "dtype: float64"
      ]
     },
     "execution_count": 38,
     "metadata": {},
     "output_type": "execute_result"
    }
   ],
   "source": [
    "# Percentage of missing values in each column\n",
    "100*df1.isnull().mean()"
   ]
  },
  {
   "cell_type": "code",
   "execution_count": 57,
   "id": "53ac761f-767e-417e-af20-9a3d414588d0",
   "metadata": {},
   "outputs": [
    {
     "data": {
      "text/plain": [
       "'S'"
      ]
     },
     "execution_count": 57,
     "metadata": {},
     "output_type": "execute_result"
    }
   ],
   "source": [
    "df1[\"Embarked\"].mode()[0]"
   ]
  },
  {
   "cell_type": "code",
   "execution_count": 44,
   "id": "0b53dbb5-5a1f-4a12-92f0-6b7f614b77c0",
   "metadata": {},
   "outputs": [
    {
     "data": {
      "text/plain": [
       "28.0"
      ]
     },
     "execution_count": 44,
     "metadata": {},
     "output_type": "execute_result"
    }
   ],
   "source": [
    "df1[\"Age\"].median()"
   ]
  },
  {
   "cell_type": "code",
   "execution_count": 50,
   "id": "3a6c3235-3b63-4294-bd27-7f741e5f3f62",
   "metadata": {},
   "outputs": [],
   "source": [
    "mod=df1[\"Embarked\"].mode()[0]\n",
    "df1[\"Embarked\"]=df1[\"Embarked\"].fillna(mod) # Imputation\n",
    "# Fillna function will replace/impute all missing values of Embarked column with mode value i.e. S"
   ]
  },
  {
   "cell_type": "code",
   "execution_count": 52,
   "id": "fd84f993-f5a3-4992-92f1-10376b309c49",
   "metadata": {
    "collapsed": true,
    "jupyter": {
     "outputs_hidden": true
    },
    "scrolled": true
   },
   "outputs": [
    {
     "data": {
      "text/plain": [
       "PassengerId    0.0\n",
       "Survived       0.0\n",
       "Pclass         0.0\n",
       "Name           0.0\n",
       "Sex            0.0\n",
       "Age            0.0\n",
       "SibSp          0.0\n",
       "Parch          0.0\n",
       "Ticket         0.0\n",
       "Fare           0.0\n",
       "Embarked       0.0\n",
       "dtype: float64"
      ]
     },
     "execution_count": 52,
     "metadata": {},
     "output_type": "execute_result"
    }
   ],
   "source": [
    "# Percentage of missing values in each column\n",
    "100*df1.isnull().mean()"
   ]
  },
  {
   "cell_type": "markdown",
   "id": "312b1621-7557-49cc-b6f3-35a6a42f5c35",
   "metadata": {},
   "source": [
    "## Univariate Analysis"
   ]
  },
  {
   "cell_type": "markdown",
   "id": "49ac5367-bd95-4891-af4f-7de2e0a3e9ee",
   "metadata": {},
   "source": [
    "### Numerical"
   ]
  },
  {
   "cell_type": "code",
   "execution_count": 61,
   "id": "4bd359d5-94c5-4d19-b985-7da30658397d",
   "metadata": {
    "collapsed": true,
    "jupyter": {
     "outputs_hidden": true
    },
    "scrolled": true
   },
   "outputs": [
    {
     "data": {
      "image/png": "[encoded data removed]",
      "text/plain": [
       "<Figure size 640x480 with 1 Axes>"
      ]
     },
     "metadata": {},
     "output_type": "display_data"
    }
   ],
   "source": [
    "sns.histplot(x=df1[\"Age\"],bins=[0,10,20,30,40,50,60,70,80])\n",
    "plt.show()"
   ]
  },
  {
   "cell_type": "code",
   "execution_count": 63,
   "id": "a89d8e5e-8b04-4f8c-8ec4-2a7fed8ca1cb",
   "metadata": {
    "collapsed": true,
    "jupyter": {
     "outputs_hidden": true
    }
   },
   "outputs": [
    {
     "data": {
      "image/png": "[encoded data removed]",
      "text/plain": [
       "<Figure size 640x480 with 1 Axes>"
      ]
     },
     "metadata": {},
     "output_type": "display_data"
    }
   ],
   "source": [
    "sns.boxplot(y=df1[\"Age\"])\n",
    "plt.show()\n",
    "# Quartile = Quarter + Percentile\n",
    "# Q1= First Quartile (25th Percentile) --> (Left/bottom side of the box)\n",
    "# Q2= Second Quartile (50th Percentile) --> (Middle line of the box) (Median)\n",
    "# Q3= Third Quartile (75th Percentile) --> (Right/top side of the box)\n",
    "# Blackdots: Outliers (Extreme Values)\n",
    "# Two Whiskers: (Emperical Relationships)\n",
    "# Lower Whisker: Q1-1.5*(Q3-Q1) \n",
    "# Upper Whisker: Q3+1.5*(Q3-Q1)\n",
    "# IQR : Inter Quartile Range( Q3-Q1)"
   ]
  },
  {
   "cell_type": "markdown",
   "id": "1ec294b8-beeb-49d0-88b6-fafbcdb47092",
   "metadata": {},
   "source": [
    "### Categorical"
   ]
  },
  {
   "cell_type": "code",
   "execution_count": 66,
   "id": "1406f978-1310-4a3b-9bd7-77e228ad7480",
   "metadata": {
    "collapsed": true,
    "jupyter": {
     "outputs_hidden": true
    },
    "scrolled": true
   },
   "outputs": [
    {
     "data": {
      "image/png": "[encoded data removed]",
      "text/plain": [
       "<Figure size 640x480 with 1 Axes>"
      ]
     },
     "metadata": {},
     "output_type": "display_data"
    }
   ],
   "source": [
    "sns.countplot(x=df1[\"Survived\"])\n",
    "plt.show()"
   ]
  },
  {
   "cell_type": "code",
   "execution_count": 68,
   "id": "ab7f0dc7-d251-4ee8-9b92-2c7576e3b797",
   "metadata": {},
   "outputs": [
    {
     "data": {
      "text/plain": [
       "Survived\n",
       "0    549\n",
       "1    342\n",
       "Name: count, dtype: int64"
      ]
     },
     "execution_count": 68,
     "metadata": {},
     "output_type": "execute_result"
    }
   ],
   "source": [
    "df1[\"Survived\"].value_counts()"
   ]
  },
  {
   "cell_type": "code",
   "execution_count": 70,
   "id": "62de4d72-c1fe-4448-807c-ba98c89acc4e",
   "metadata": {
    "collapsed": true,
    "jupyter": {
     "outputs_hidden": true
    },
    "scrolled": true
   },
   "outputs": [
    {
     "data": {
      "image/png": "[encoded data removed]",
      "text/plain": [
       "<Figure size 640x480 with 1 Axes>"
      ]
     },
     "metadata": {},
     "output_type": "display_data"
    }
   ],
   "source": [
    "sns.countplot(x=df1[\"SibSp\"])\n",
    "plt.show()"
   ]
  },
  {
   "cell_type": "code",
   "execution_count": 72,
   "id": "b28ffa3c-48e7-42cb-8581-ddd9272cfea5",
   "metadata": {
    "collapsed": true,
    "jupyter": {
     "outputs_hidden": true
    }
   },
   "outputs": [
    {
     "data": {
      "image/png": "[encoded data removed]",
      "text/plain": [
       "<Figure size 640x480 with 1 Axes>"
      ]
     },
     "metadata": {},
     "output_type": "display_data"
    }
   ],
   "source": [
    "sns.countplot(x=df1[\"Parch\"])\n",
    "plt.show()"
   ]
  },
  {
   "cell_type": "markdown",
   "id": "3f0cb328-48fc-49fe-8828-4a6052685435",
   "metadata": {},
   "source": [
    "## Bivariate Analysis"
   ]
  },
  {
   "cell_type": "markdown",
   "id": "ef9efa74-033a-4be6-a538-0a3d4e6cd186",
   "metadata": {},
   "source": [
    "### Numerical Vs Numerical"
   ]
  },
  {
   "cell_type": "code",
   "execution_count": 76,
   "id": "c79b3b05-26b8-4e7a-955b-752580125170",
   "metadata": {
    "collapsed": true,
    "jupyter": {
     "outputs_hidden": true
    },
    "scrolled": true
   },
   "outputs": [
    {
     "data": {
      "image/png": "[encoded data removed]",
      "text/plain": [
       "<Figure size 640x480 with 1 Axes>"
      ]
     },
     "metadata": {},
     "output_type": "display_data"
    }
   ],
   "source": [
    "sns.scatterplot(x=df1[\"Age\"],y=df1[\"Fare\"])\n",
    "plt.show()"
   ]
  },
  {
   "cell_type": "markdown",
   "id": "f40cb188-8ddb-4ae1-a9f7-f5eb53af1120",
   "metadata": {},
   "source": [
    "### Categorical Vs Numerical"
   ]
  },
  {
   "cell_type": "code",
   "execution_count": 79,
   "id": "1f98b837-9354-412a-8e27-296c8d69f63c",
   "metadata": {
    "collapsed": true,
    "jupyter": {
     "outputs_hidden": true
    }
   },
   "outputs": [
    {
     "data": {
      "image/png": "[encoded data removed]",
      "text/plain": [
       "<Figure size 640x480 with 1 Axes>"
      ]
     },
     "metadata": {},
     "output_type": "display_data"
    }
   ],
   "source": [
    "sns.boxplot(x=df1[\"Survived\"],y=df1[\"Age\"])\n",
    "plt.show()"
   ]
  },
  {
   "cell_type": "code",
   "execution_count": 89,
   "id": "c1b1a2c1-aad5-4568-ba85-5f4980b9d7e6",
   "metadata": {
    "collapsed": true,
    "jupyter": {
     "outputs_hidden": true
    },
    "scrolled": true
   },
   "outputs": [
    {
     "data": {
      "image/png": "[encoded data removed]",
      "text/plain": [
       "<Figure size 640x480 with 1 Axes>"
      ]
     },
     "metadata": {},
     "output_type": "display_data"
    }
   ],
   "source": [
    "sns.barplot(x=df1[\"Survived\"],y=df1[\"Age\"],errorbar=None,estimator=np.median)\n",
    "plt.show()"
   ]
  },
  {
   "cell_type": "markdown",
   "id": "1de4364e-370f-4384-b676-e4a129176db0",
   "metadata": {},
   "source": [
    "### Categorical Vs Categorical"
   ]
  },
  {
   "cell_type": "code",
   "execution_count": 94,
   "id": "f402a50e-4745-426f-90d5-6e239acaff78",
   "metadata": {
    "collapsed": true,
    "jupyter": {
     "outputs_hidden": true
    },
    "scrolled": true
   },
   "outputs": [
    {
     "data": {
      "image/png": "[encoded data removed]",
      "text/plain": [
       "<Figure size 640x480 with 1 Axes>"
      ]
     },
     "metadata": {},
     "output_type": "display_data"
    }
   ],
   "source": [
    "sns.barplot(x=df1[\"Sex\"],y=df1[\"Survived\"],errorbar=None)\n",
    "plt.show()"
   ]
  },
  {
   "cell_type": "code",
   "execution_count": 96,
   "id": "99a1c51f-caf8-4a44-914f-8ef19dfad140",
   "metadata": {},
   "outputs": [
    {
     "data": {
      "text/plain": [
       "Sex\n",
       "female    0.742038\n",
       "male      0.188908\n",
       "Name: Survived, dtype: float64"
      ]
     },
     "execution_count": 96,
     "metadata": {},
     "output_type": "execute_result"
    }
   ],
   "source": [
    "df1.groupby(\"Sex\")[\"Survived\"].mean()"
   ]
  },
  {
   "cell_type": "code",
   "execution_count": 104,
   "id": "210f59b7-54da-463e-82a0-4bd4925722dd",
   "metadata": {},
   "outputs": [],
   "source": [
    "#--> Survived --> 0,0,0,1,0,1,0,1,1 --> 4/9\n",
    "#---> mean(Survived) ---> (0+0+0+1+0+1+0+1+1)/9"
   ]
  },
  {
   "cell_type": "code",
   "execution_count": 106,
   "id": "a67ce1ce-6621-416f-bff5-0bd992e7fe0e",
   "metadata": {},
   "outputs": [],
   "source": [
    "#(0+0+0+1+0+1+0+1+1) --> count of survived people/total people"
   ]
  },
  {
   "cell_type": "code",
   "execution_count": 102,
   "id": "45f83dbf-a500-45ae-91f1-bde166c555c4",
   "metadata": {
    "collapsed": true,
    "jupyter": {
     "outputs_hidden": true
    }
   },
   "outputs": [
    {
     "data": {
      "text/plain": [
       "PassengerId      0\n",
       "Survived         0\n",
       "Pclass           0\n",
       "Name             0\n",
       "Sex              0\n",
       "Age            177\n",
       "SibSp            0\n",
       "Parch            0\n",
       "Ticket           0\n",
       "Fare             0\n",
       "Cabin          687\n",
       "Embarked         2\n",
       "dtype: int64"
      ]
     },
     "execution_count": 102,
     "metadata": {},
     "output_type": "execute_result"
    }
   ],
   "source": [
    "df.isnull().mean()"
   ]
  },
  {
   "cell_type": "markdown",
   "id": "6065ff30-84e1-4d49-951e-727a499f5a73",
   "metadata": {},
   "source": [
    "## Multivariate Analysis"
   ]
  },
  {
   "cell_type": "code",
   "execution_count": 109,
   "id": "11a84956-9e06-499d-a1af-a78533f5bd0b",
   "metadata": {},
   "outputs": [],
   "source": [
    "# Correlation is ideal metric for Numerical columns, but if your columns are binary categorical still industry prefer to use correlation \n",
    "# as it approximately right but not ideal, but not all suitable for non-binary categorical columns"
   ]
  },
  {
   "cell_type": "code",
   "execution_count": 117,
   "id": "1a38a0d4-a0b6-44d4-8e94-04ce4239267c",
   "metadata": {},
   "outputs": [],
   "source": [
    "df1[\"Sex\"]=df1[\"Sex\"].map({\"male\":0,\"female\":1})"
   ]
  },
  {
   "cell_type": "code",
   "execution_count": 119,
   "id": "d629da22-8b71-4fbd-8ee5-f619e8aa0846",
   "metadata": {
    "collapsed": true,
    "jupyter": {
     "outputs_hidden": true
    }
   },
   "outputs": [
    {
     "data": {
      "image/png": "[encoded data removed]",
      "text/plain": [
       "<Figure size 640x480 with 2 Axes>"
      ]
     },
     "metadata": {},
     "output_type": "display_data"
    }
   ],
   "source": [
    "sns.heatmap(df1[[\"Age\",\"Fare\",\"Sex\",\"Survived\"]].corr(),annot=True)\n",
    "plt.show()"
   ]
  },
  {
   "cell_type": "code",
   "execution_count": null,
   "id": "8427296b-5d64-46f4-bfd7-36fc4b998b31",
   "metadata": {},
   "outputs": [],
   "source": [
    "## Correlation represents strength of relationship between variables\n",
    "## Correlation lies in the range of -1 to 1\n",
    "#--> Theoritcal Interpretation\n",
    "## Negative correlation  (0 to -1) shows inverse relationship\n",
    "## Positive correlation (0 to 1) shows direct relationship\n",
    "## 0 or near by correlation represents no relationship.\n",
    "#--> Industrial Interpretation\n",
    "## Correlation value >0.7 --> High Positive Corrleation\n",
    "## 0.3<Correlation value<0.7 --> Weak Positive Corrleation\n",
    "## Correlation value <-0.7 --> High Negative Corrleation\n",
    "## -0.7<Correlation value<-0.3 --> Weak Negative Corrleation\n",
    "## -0.3<Correlation value<0.3 --> No or almost no Corrleation"
   ]
  }
 ],
 "metadata": {
  "kernelspec": {
   "display_name": "Python [conda env:base] *",
   "language": "python",
   "name": "conda-base-py"
  },
  "language_info": {
   "codemirror_mode": {
    "name": "ipython",
    "version": 3
   },
   "file_extension": ".py",
   "mimetype": "text/x-python",
   "name": "python",
   "nbconvert_exporter": "python",
   "pygments_lexer": "ipython3",
   "version": "3.12.7"
  }
 },
 "nbformat": 4,
 "nbformat_minor": 5
}
