{
  "nbformat": 4,
  "nbformat_minor": 0,
  "metadata": {
    "colab": {
      "provenance": [],
      "authorship_tag": "ABX9TyO8KMUJSJO/naQ6yfxsj2/y",
      "include_colab_link": true
    },
    "kernelspec": {
      "name": "python3",
      "display_name": "Python 3"
    },
    "language_info": {
      "name": "python"
    }
  },
  "cells": [
    {
      "cell_type": "markdown",
      "metadata": {
        "id": "view-in-github",
        "colab_type": "text"
      },
      "source": [
        "<a href=\"https://colab.research.google.com/github/muntzar313/My-Data-Science-Journey/blob/main/Refresh.ipynb\" target=\"_parent\"><img src=\"https://colab.research.google.com/assets/colab-badge.svg\" alt=\"Open In Colab\"/></a>"
      ]
    },
    {
      "cell_type": "code",
      "source": [
        "x = 450\n",
        "\n",
        "if x < 99:\n",
        "    print(x, \"is less than 99\")\n",
        "else:\n",
        "  print(x, \"is greater than 99\")"
      ],
      "metadata": {
        "colab": {
          "base_uri": "https://localhost:8080/"
        },
        "id": "-6LgBPkBobDX",
        "outputId": "c082505f-280c-4d68-f7cf-55b376a7c848"
      },
      "execution_count": null,
      "outputs": [
        {
          "output_type": "stream",
          "name": "stdout",
          "text": [
            "450 is greater than 99\n"
          ]
        }
      ]
    },
    {
      "cell_type": "code",
      "source": [
        "X=10001\n",
        "if (X<1000):\n",
        "    print('No')\n",
        "else:\n",
        "    if (X>1100 ):\n",
        "        print('No')\n",
        "    else:\n",
        "        print('Yes')"
      ],
      "metadata": {
        "colab": {
          "base_uri": "https://localhost:8080/"
        },
        "id": "KFr0b9dtp1_s",
        "outputId": "4c5f7102-5e51-4a61-dc06-498156d7b7f1"
      },
      "execution_count": null,
      "outputs": [
        {
          "output_type": "stream",
          "name": "stdout",
          "text": [
            "No\n"
          ]
        }
      ]
    },
    {
      "cell_type": "code",
      "source": [
        "pin=input(\"ENter your pin:\")\n",
        "\n",
        "while pin!='1320':\n",
        "    print(\"Invalid pin,please try again!\")\n",
        "\n",
        "print(\"Transction success!\")"
      ],
      "metadata": {
        "colab": {
          "base_uri": "https://localhost:8080/"
        },
        "id": "2D1XGkG3qANh",
        "outputId": "2162d0c3-458a-4bfe-d278-f7eb53ddf247"
      },
      "execution_count": null,
      "outputs": [
        {
          "output_type": "stream",
          "name": "stdout",
          "text": [
            "ENter your pin:1320\n",
            "Transction success!\n"
          ]
        }
      ]
    },
    {
      "cell_type": "code",
      "source": [],
      "metadata": {
        "id": "zKNZceGQrdo1"
      },
      "execution_count": null,
      "outputs": []
    }
  ]
}