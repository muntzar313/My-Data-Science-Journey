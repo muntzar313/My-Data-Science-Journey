{
 "cells": [
  {
   "cell_type": "markdown",
   "metadata": {
    "colab_type": "text",
    "id": "1h__F05n0cYN"
   },
   "source": [
    "# Practice Exercise"
   ]
  },
  {
   "cell_type": "markdown",
   "metadata": {
    "colab_type": "text",
    "id": "qEzf6y1409zw"
   },
   "source": [
    "Question 1: Print a random integer between 100 and 135"
   ]
  },
  {
   "cell_type": "code",
   "execution_count": 1,
   "metadata": {
    "colab": {},
    "colab_type": "code",
    "id": "yisQGrBd0bzN"
   },
   "outputs": [
    {
     "name": "stdout",
     "output_type": "stream",
     "text": [
      "130\n"
     ]
    }
   ],
   "source": [
    "# Import required libraries:\n",
    "import random \n",
    "# Print a random integer in the given range:\n",
    "start =100\n",
    "end =135\n",
    "gen=random.randint(start,end)\n",
    "print(gen)"
   ]
  },
  {
   "cell_type": "markdown",
   "metadata": {
    "colab_type": "text",
    "id": "vxC8oK_G1w_O"
   },
   "source": [
    "Question 2: Create a list consisting of first 10 even numbers."
   ]
  },
  {
   "cell_type": "code",
   "execution_count": 4,
   "metadata": {
    "colab": {},
    "colab_type": "code",
    "id": "CQ9oPVOf1UZB"
   },
   "outputs": [
    {
     "name": "stdout",
     "output_type": "stream",
     "text": [
      "[102, 126, 116, 132, 118]\n"
     ]
    }
   ],
   "source": [
    "# Create a list according to the given condition:\n",
    "list_1=random.sample(range(start,end+1,2),5)\n",
    "print(list_1)"
   ]
  },
  {
   "cell_type": "markdown",
   "metadata": {
    "colab_type": "text",
    "id": "GP-3AHb52piM"
   },
   "source": [
    "Question 3: Create a list in the following manner: [birthyear, firstname, birthdate, lastname]"
   ]
  },
  {
   "cell_type": "code",
   "execution_count": 6,
   "metadata": {
    "colab": {},
    "colab_type": "code",
    "id": "D3bKLI8z2lSx"
   },
   "outputs": [
    {
     "name": "stdout",
     "output_type": "stream",
     "text": [
      "1998\n"
     ]
    }
   ],
   "source": [
    "# Create a list according to the given condition:\n",
    "user_info=[1998,\"Muntzr\",\"13/01/1998\",\"Sayyed\"]\n",
    "#print(user_info[0])"
   ]
  },
  {
   "cell_type": "markdown",
   "metadata": {
    "colab_type": "text",
    "id": "iKABjdd73bSO"
   },
   "source": [
    "Question 4: Create a nested list which consist of 2 students and their scores in mathematics and english:\n",
    "\n",
    "Students: Alex and Cody\n",
    "\n",
    "Alex scores 97 and 95 in mathematics and english respectively,\n",
    "\n",
    "Cody scores 89 and 92 in mathematics and english respectively.\n",
    "\n",
    "The list should be such that it first stores the name of students followed by the subjects and then their scores in nested lists."
   ]
  },
  {
   "cell_type": "code",
   "execution_count": 10,
   "metadata": {
    "colab": {},
    "colab_type": "code",
    "id": "oyaA3mz73Zds"
   },
   "outputs": [
    {
     "name": "stdout",
     "output_type": "stream",
     "text": [
      "['Cody', ['Mathematics', 89], ['English', 92]]\n"
     ]
    }
   ],
   "source": [
    "# Create a list according to the given condition:\n",
    "student_info=[[\"Alex\",[\"Mathematics\", 97],[\"English\",95]],[\"Cody\",[\"Mathematics\", 89],[\"English\",92]]]\n",
    "print(student_info[1][0:3])\n"
   ]
  },
  {
   "cell_type": "markdown",
   "metadata": {
    "colab_type": "text",
    "id": "jycP6fUg4njv"
   },
   "source": [
    "Question 5: Given below is a list, find out whether is has the letter 'k' in it and print the result as true or false."
   ]
  },
  {
   "cell_type": "code",
   "execution_count": 12,
   "metadata": {
    "colab": {},
    "colab_type": "code",
    "id": "r-05TqnN4hub"
   },
   "outputs": [
    {
     "name": "stdout",
     "output_type": "stream",
     "text": [
      "True\n"
     ]
    }
   ],
   "source": [
    "# Given below is a list:\n",
    "list3=[1,2,'r',7,'k',6,'o','h','d',5,9]\n",
    "\n",
    "# Define the character you are searching for:\n",
    "find=\"k\"\n",
    "\n",
    "# print the result:\n",
    "print(find in list3)"
   ]
  },
  {
   "cell_type": "markdown",
   "metadata": {
    "colab_type": "text",
    "id": "NT-4hspO55TH"
   },
   "source": [
    "Question 6: In the tuple given below, print the 3rd element."
   ]
  },
  {
   "cell_type": "code",
   "execution_count": 14,
   "metadata": {
    "colab": {},
    "colab_type": "code",
    "id": "J-CCGlN56gea"
   },
   "outputs": [
    {
     "name": "stdout",
     "output_type": "stream",
     "text": [
      "world\n"
     ]
    }
   ],
   "source": [
    "# Given below is the tuple:\n",
    "tuple1=(1,'hello','world','567')\n",
    "\n",
    "# Print the 3rd element:\n",
    "print(tuple1[2])"
   ]
  },
  {
   "cell_type": "markdown",
   "metadata": {
    "colab_type": "text",
    "id": "wx6WT1K255WN"
   },
   "source": [
    "Question 7: Given below is a tuple. Sort the tuple and print the result."
   ]
  },
  {
   "cell_type": "code",
   "execution_count": 17,
   "metadata": {
    "colab": {},
    "colab_type": "code",
    "id": "VWmBEUud7MQ4"
   },
   "outputs": [
    {
     "name": "stdout",
     "output_type": "stream",
     "text": [
      "[1, 3, 25, 54, 67, 100]\n"
     ]
    }
   ],
   "source": [
    "# Given below is the tuple:\n",
    "tuple2=(1,25,67,100,3,54)\n",
    "\n",
    "# Sort the tuple:\n",
    "x=sorted(tuple2)\n",
    "# Print the result:\n",
    "print(x)"
   ]
  },
  {
   "cell_type": "markdown",
   "metadata": {
    "colab_type": "text",
    "id": "nSSJcxQJ55ZU"
   },
   "source": [
    "Question 8: Given below is a list, convert into a set and print the output also print the length of the set."
   ]
  },
  {
   "cell_type": "code",
   "execution_count": 22,
   "metadata": {
    "colab": {},
    "colab_type": "code",
    "id": "m8CcJfyB87eP"
   },
   "outputs": [
    {
     "name": "stdout",
     "output_type": "stream",
     "text": [
      "{1, 2, 3, 4, 5, 6, 7}\n",
      "<class 'set'>\n",
      "{1, 2, 3, 4, 5, 6, 7}\n"
     ]
    },
    {
     "data": {
      "text/plain": [
       "7"
      ]
     },
     "execution_count": 22,
     "metadata": {},
     "output_type": "execute_result"
    }
   ],
   "source": [
    "# Given below is the list:\n",
    "list4=[1,2,4,6,3,2,5,4,7,4,6,5,3,2,2,1]\n",
    "\n",
    "# Convert the list into set:\n",
    "set_new=set(list4)\n",
    "print(set_new)\n",
    "print(type(set_new))\n",
    "# Print the result:\n",
    "print(set_new)\n",
    "# Print the length of the set:\n",
    "len(set_new)"
   ]
  },
  {
   "cell_type": "markdown",
   "metadata": {
    "colab_type": "text",
    "id": "lbbGNfhh55cy"
   },
   "source": [
    "Question 9: Given below are two sets, perform the operations given below:\n",
    "1. Print their union\n",
    "2. Print their intersection\n",
    "3. Print their difference\n",
    "4. Print their symmetric difference"
   ]
  },
  {
   "cell_type": "code",
   "execution_count": null,
   "metadata": {
    "colab": {},
    "colab_type": "code",
    "id": "04IIzknZ9-ZP"
   },
   "outputs": [],
   "source": [
    "# Given below are two sets:\n",
    "a={1,2,3,5,6,7}\n",
    "b={4,5,8,9,2,3}\n",
    "\n",
    "# Print their union:\n",
    "\n",
    "# Print their intersection:\n",
    "\n",
    "# Print their difference:\n",
    "\n",
    "# Print their symmetric difference:"
   ]
  },
  {
   "cell_type": "markdown",
   "metadata": {
    "colab_type": "text",
    "id": "aNFcEjza55fq"
   },
   "source": [
    "Question 10: Create a dictionary that stores the names and roll numbers of 5 students as given below:\n",
    "1. Sam, 21\n",
    "2. Cody, 12\n",
    "3. Addy, 3\n",
    "4. Zach, 45\n",
    "5. Amy, 6"
   ]
  },
  {
   "cell_type": "code",
   "execution_count": null,
   "metadata": {
    "colab": {},
    "colab_type": "code",
    "id": "Wf2kp70A_IfD"
   },
   "outputs": [],
   "source": [
    "# Create a dictionary:\n",
    "\n",
    "# Print the result:"
   ]
  },
  {
   "cell_type": "markdown",
   "metadata": {
    "colab_type": "text",
    "id": "iFKlCBIA5WjL"
   },
   "source": [
    "Question 11: Due to admission of new students the roll number of zach has changed from 45 to 47. Make the required changes and print the new dictionary."
   ]
  },
  {
   "cell_type": "code",
   "execution_count": null,
   "metadata": {
    "colab": {},
    "colab_type": "code",
    "id": "rE_fsHnYEZFk"
   },
   "outputs": [],
   "source": [
    "# Update the roll number:\n",
    "\n",
    "# Print the new dictionary:"
   ]
  },
  {
   "cell_type": "markdown",
   "metadata": {
    "colab_type": "text",
    "id": "MyrZDHMl55ir"
   },
   "source": [
    "Question 12: Sort the dictionary according to roll number.\n"
   ]
  },
  {
   "cell_type": "code",
   "execution_count": null,
   "metadata": {
    "colab": {},
    "colab_type": "code",
    "id": "NrdUqjkvEpRC"
   },
   "outputs": [],
   "source": [
    "# Sort and print the students roll number wise in ascending order:"
   ]
  }
 ],
 "metadata": {
  "colab": {
   "name": "Data structures in Python.ipynb",
   "provenance": []
  },
  "kernelspec": {
   "display_name": "Python 3 (ipykernel)",
   "language": "python",
   "name": "python3"
  },
  "language_info": {
   "codemirror_mode": {
    "name": "ipython",
    "version": 3
   },
   "file_extension": ".py",
   "mimetype": "text/x-python",
   "name": "python",
   "nbconvert_exporter": "python",
   "pygments_lexer": "ipython3",
   "version": "3.13.0"
  }
 },
 "nbformat": 4,
 "nbformat_minor": 4
}
